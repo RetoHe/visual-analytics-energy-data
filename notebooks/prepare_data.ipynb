{
 "metadata": {
  "language_info": {
   "codemirror_mode": {
    "name": "ipython",
    "version": 3
   },
   "file_extension": ".py",
   "mimetype": "text/x-python",
   "name": "python",
   "nbconvert_exporter": "python",
   "pygments_lexer": "ipython3",
   "version": "3.8.0-final"
  },
  "orig_nbformat": 2,
  "kernelspec": {
   "name": "python3",
   "display_name": "Python 3",
   "language": "python"
  }
 },
 "nbformat": 4,
 "nbformat_minor": 2,
 "cells": [
  {
   "cell_type": "code",
   "execution_count": 26,
   "metadata": {},
   "outputs": [],
   "source": [
    "import pandas as pd"
   ]
  },
  {
   "cell_type": "code",
   "execution_count": 97,
   "metadata": {},
   "outputs": [],
   "source": [
    "oil_data = pd.read_csv(\"../data/raw/oil_consumption_total.csv\")\n",
    "electricity_generation_data = pd.read_csv(\"../data/raw/electricity_generation_total.csv\")\n",
    "energy_prod_data = pd.read_csv(\"../data/raw/energy_production_total.csv\")"
   ]
  },
  {
   "cell_type": "code",
   "execution_count": 98,
   "metadata": {},
   "outputs": [
    {
     "output_type": "execute_result",
     "data": {
      "text/plain": [
       "     country  1960  1961  1962  1963  1964  1965  1966  1967  1968  ...  \\\n",
       "0    Albania   NaN   NaN   NaN   NaN   NaN   NaN   NaN   NaN   NaN  ...   \n",
       "1    Algeria   NaN   NaN   NaN   NaN   NaN   NaN   NaN   NaN   NaN  ...   \n",
       "2     Angola   NaN   NaN   NaN   NaN   NaN   NaN   NaN   NaN   NaN  ...   \n",
       "3  Argentina   NaN   NaN   NaN   NaN   NaN   NaN   NaN   NaN   NaN  ...   \n",
       "4    Armenia   NaN   NaN   NaN   NaN   NaN   NaN   NaN   NaN   NaN  ...   \n",
       "\n",
       "       2001      2002      2003      2004      2005      2006      2007  \\\n",
       "0     883.0     959.0    1050.0    1150.0    1170.0    1190.0    1060.0   \n",
       "1  137000.0  143000.0  155000.0  158000.0  167000.0  165000.0  164000.0   \n",
       "2   43500.0   51400.0   51400.0   57600.0   70900.0   80000.0   95100.0   \n",
       "3   84500.0   81300.0   84300.0   87100.0   84700.0   86200.0   82900.0   \n",
       "4     602.0     738.0     692.0     746.0     861.0     846.0     826.0   \n",
       "\n",
       "       2008      2009  2010  \n",
       "0    1150.0    1250.0   NaN  \n",
       "1  162000.0  152000.0   NaN  \n",
       "2  106000.0  101000.0   NaN  \n",
       "3   82900.0   80800.0   NaN  \n",
       "4     797.0     825.0   NaN  \n",
       "\n",
       "[5 rows x 52 columns]"
      ],
      "text/html": "<div>\n<style scoped>\n    .dataframe tbody tr th:only-of-type {\n        vertical-align: middle;\n    }\n\n    .dataframe tbody tr th {\n        vertical-align: top;\n    }\n\n    .dataframe thead th {\n        text-align: right;\n    }\n</style>\n<table border=\"1\" class=\"dataframe\">\n  <thead>\n    <tr style=\"text-align: right;\">\n      <th></th>\n      <th>country</th>\n      <th>1960</th>\n      <th>1961</th>\n      <th>1962</th>\n      <th>1963</th>\n      <th>1964</th>\n      <th>1965</th>\n      <th>1966</th>\n      <th>1967</th>\n      <th>1968</th>\n      <th>...</th>\n      <th>2001</th>\n      <th>2002</th>\n      <th>2003</th>\n      <th>2004</th>\n      <th>2005</th>\n      <th>2006</th>\n      <th>2007</th>\n      <th>2008</th>\n      <th>2009</th>\n      <th>2010</th>\n    </tr>\n  </thead>\n  <tbody>\n    <tr>\n      <th>0</th>\n      <td>Albania</td>\n      <td>NaN</td>\n      <td>NaN</td>\n      <td>NaN</td>\n      <td>NaN</td>\n      <td>NaN</td>\n      <td>NaN</td>\n      <td>NaN</td>\n      <td>NaN</td>\n      <td>NaN</td>\n      <td>...</td>\n      <td>883.0</td>\n      <td>959.0</td>\n      <td>1050.0</td>\n      <td>1150.0</td>\n      <td>1170.0</td>\n      <td>1190.0</td>\n      <td>1060.0</td>\n      <td>1150.0</td>\n      <td>1250.0</td>\n      <td>NaN</td>\n    </tr>\n    <tr>\n      <th>1</th>\n      <td>Algeria</td>\n      <td>NaN</td>\n      <td>NaN</td>\n      <td>NaN</td>\n      <td>NaN</td>\n      <td>NaN</td>\n      <td>NaN</td>\n      <td>NaN</td>\n      <td>NaN</td>\n      <td>NaN</td>\n      <td>...</td>\n      <td>137000.0</td>\n      <td>143000.0</td>\n      <td>155000.0</td>\n      <td>158000.0</td>\n      <td>167000.0</td>\n      <td>165000.0</td>\n      <td>164000.0</td>\n      <td>162000.0</td>\n      <td>152000.0</td>\n      <td>NaN</td>\n    </tr>\n    <tr>\n      <th>2</th>\n      <td>Angola</td>\n      <td>NaN</td>\n      <td>NaN</td>\n      <td>NaN</td>\n      <td>NaN</td>\n      <td>NaN</td>\n      <td>NaN</td>\n      <td>NaN</td>\n      <td>NaN</td>\n      <td>NaN</td>\n      <td>...</td>\n      <td>43500.0</td>\n      <td>51400.0</td>\n      <td>51400.0</td>\n      <td>57600.0</td>\n      <td>70900.0</td>\n      <td>80000.0</td>\n      <td>95100.0</td>\n      <td>106000.0</td>\n      <td>101000.0</td>\n      <td>NaN</td>\n    </tr>\n    <tr>\n      <th>3</th>\n      <td>Argentina</td>\n      <td>NaN</td>\n      <td>NaN</td>\n      <td>NaN</td>\n      <td>NaN</td>\n      <td>NaN</td>\n      <td>NaN</td>\n      <td>NaN</td>\n      <td>NaN</td>\n      <td>NaN</td>\n      <td>...</td>\n      <td>84500.0</td>\n      <td>81300.0</td>\n      <td>84300.0</td>\n      <td>87100.0</td>\n      <td>84700.0</td>\n      <td>86200.0</td>\n      <td>82900.0</td>\n      <td>82900.0</td>\n      <td>80800.0</td>\n      <td>NaN</td>\n    </tr>\n    <tr>\n      <th>4</th>\n      <td>Armenia</td>\n      <td>NaN</td>\n      <td>NaN</td>\n      <td>NaN</td>\n      <td>NaN</td>\n      <td>NaN</td>\n      <td>NaN</td>\n      <td>NaN</td>\n      <td>NaN</td>\n      <td>NaN</td>\n      <td>...</td>\n      <td>602.0</td>\n      <td>738.0</td>\n      <td>692.0</td>\n      <td>746.0</td>\n      <td>861.0</td>\n      <td>846.0</td>\n      <td>826.0</td>\n      <td>797.0</td>\n      <td>825.0</td>\n      <td>NaN</td>\n    </tr>\n  </tbody>\n</table>\n<p>5 rows × 52 columns</p>\n</div>"
     },
     "metadata": {},
     "execution_count": 98
    }
   ],
   "source": [
    "energy_prod_data.head()"
   ]
  },
  {
   "cell_type": "code",
   "execution_count": 99,
   "metadata": {},
   "outputs": [],
   "source": [
    "oil_data = oil_data.transpose()\n",
    "oil_data = oil_data.fillna(0)\n",
    "oil_data = oil_data.rename(columns=oil_data.iloc[0])\n",
    "\n",
    "electricity_generation_data = electricity_generation_data.transpose()\n",
    "electricity_generation_data = electricity_generation_data.fillna(0)\n",
    "electricity_generation_data = electricity_generation_data.rename(columns=electricity_generation_data.iloc[0])\n",
    "\n",
    "energy_prod_data = energy_prod_data.transpose()\n",
    "energy_prod_data = energy_prod_data.fillna(0)\n",
    "energy_prod_data = energy_prod_data.rename(columns=energy_prod_data.iloc[0])"
   ]
  },
  {
   "cell_type": "code",
   "execution_count": 100,
   "metadata": {},
   "outputs": [],
   "source": [
    "oil_cols = oil_data.columns[oil_data.dtypes.eq(object)]\n",
    "el_g_cols = electricity_generation_data.columns[electricity_generation_data.dtypes.eq(object)]\n",
    "energy_cols = energy_prod_data.columns[energy_prod_data.dtypes.eq(object)]"
   ]
  },
  {
   "cell_type": "code",
   "execution_count": 101,
   "metadata": {},
   "outputs": [],
   "source": [
    "oil_data[oil_cols] = oil_data[oil_cols].apply(pd.to_numeric, errors='coerce')\n",
    "electricity_generation_data[el_g_cols] = electricity_generation_data[el_g_cols].apply(pd.to_numeric, errors='coerce')\n",
    "energy_prod_data[energy_cols] = energy_prod_data[energy_cols].apply(pd.to_numeric, errors='coerce')"
   ]
  },
  {
   "cell_type": "code",
   "execution_count": 102,
   "metadata": {},
   "outputs": [],
   "source": [
    "oil_data = oil_data.drop(\"country\")\n",
    "electricity_generation_data = electricity_generation_data.drop(\"country\")\n",
    "energy_prod_data = energy_prod_data.drop(\"country\")"
   ]
  },
  {
   "cell_type": "code",
   "execution_count": 108,
   "metadata": {},
   "outputs": [
    {
     "output_type": "execute_result",
     "data": {
      "text/plain": [
       "['Albania',\n",
       " 'Algeria',\n",
       " 'Angola',\n",
       " 'Argentina',\n",
       " 'Armenia',\n",
       " 'Australia',\n",
       " 'Austria',\n",
       " 'Azerbaijan',\n",
       " 'Bahrain',\n",
       " 'Bangladesh',\n",
       " 'Belarus',\n",
       " 'Belgium',\n",
       " 'Benin',\n",
       " 'Bolivia',\n",
       " 'Bosnia and Herzegovina',\n",
       " 'Botswana',\n",
       " 'Brazil',\n",
       " 'Brunei',\n",
       " 'Bulgaria',\n",
       " 'Cambodia',\n",
       " 'Cameroon',\n",
       " 'Canada',\n",
       " 'Chile',\n",
       " 'China',\n",
       " 'Colombia',\n",
       " 'Congo, Dem. Rep.',\n",
       " 'Congo, Rep.',\n",
       " 'Costa Rica',\n",
       " \"Cote d'Ivoire\",\n",
       " 'Croatia',\n",
       " 'Cuba',\n",
       " 'Cyprus',\n",
       " 'Czech Republic',\n",
       " 'Denmark',\n",
       " 'Dominican Republic',\n",
       " 'Ecuador',\n",
       " 'Egypt',\n",
       " 'El Salvador',\n",
       " 'Eritrea',\n",
       " 'Estonia',\n",
       " 'Ethiopia',\n",
       " 'Finland',\n",
       " 'France',\n",
       " 'Gabon',\n",
       " 'Georgia',\n",
       " 'Germany',\n",
       " 'Ghana',\n",
       " 'Greece',\n",
       " 'Guatemala',\n",
       " 'Haiti',\n",
       " 'Honduras',\n",
       " 'Hungary',\n",
       " 'Iceland',\n",
       " 'India',\n",
       " 'Indonesia',\n",
       " 'Iran',\n",
       " 'Iraq',\n",
       " 'Ireland',\n",
       " 'Israel',\n",
       " 'Italy',\n",
       " 'Jamaica',\n",
       " 'Japan',\n",
       " 'Jordan',\n",
       " 'Kazakhstan',\n",
       " 'Kenya',\n",
       " 'Kuwait',\n",
       " 'Kyrgyz Republic',\n",
       " 'Latvia',\n",
       " 'Lebanon',\n",
       " 'Libya',\n",
       " 'Lithuania',\n",
       " 'Luxembourg',\n",
       " 'Malaysia',\n",
       " 'Malta',\n",
       " 'Mexico',\n",
       " 'Moldova',\n",
       " 'Mongolia',\n",
       " 'Morocco',\n",
       " 'Mozambique',\n",
       " 'Myanmar',\n",
       " 'Namibia',\n",
       " 'Nepal',\n",
       " 'Netherlands',\n",
       " 'New Zealand',\n",
       " 'Nicaragua',\n",
       " 'Nigeria',\n",
       " 'North Korea',\n",
       " 'North Macedonia',\n",
       " 'Norway',\n",
       " 'Oman',\n",
       " 'Pakistan',\n",
       " 'Panama',\n",
       " 'Paraguay',\n",
       " 'Peru',\n",
       " 'Philippines',\n",
       " 'Poland',\n",
       " 'Portugal',\n",
       " 'Qatar',\n",
       " 'Romania',\n",
       " 'Russia',\n",
       " 'Saudi Arabia',\n",
       " 'Senegal',\n",
       " 'Serbia',\n",
       " 'Singapore',\n",
       " 'Slovak Republic',\n",
       " 'Slovenia',\n",
       " 'South Africa',\n",
       " 'South Korea',\n",
       " 'Spain',\n",
       " 'Sri Lanka',\n",
       " 'Sudan',\n",
       " 'Sweden',\n",
       " 'Switzerland',\n",
       " 'Syria',\n",
       " 'Tajikistan',\n",
       " 'Tanzania',\n",
       " 'Thailand',\n",
       " 'Togo',\n",
       " 'Trinidad and Tobago',\n",
       " 'Tunisia',\n",
       " 'Turkey',\n",
       " 'Turkmenistan',\n",
       " 'Ukraine',\n",
       " 'United Arab Emirates',\n",
       " 'United Kingdom',\n",
       " 'United States',\n",
       " 'Uruguay',\n",
       " 'Uzbekistan',\n",
       " 'Venezuela',\n",
       " 'Vietnam',\n",
       " 'Yemen',\n",
       " 'Zambia',\n",
       " 'Zimbabwe']"
      ]
     },
     "metadata": {},
     "execution_count": 108
    }
   ],
   "source": []
  },
  {
   "cell_type": "code",
   "execution_count": 45,
   "metadata": {},
   "outputs": [],
   "source": [
    "countries = []\n",
    "for col in oil_data.columns:\n",
    "    countries.append(col)"
   ]
  },
  {
   "cell_type": "code",
   "execution_count": 118,
   "metadata": {},
   "outputs": [],
   "source": [
    "Asia = [\"Azerbaijan\", \"Bangladesh\", \"China\",'India',\n",
    " 'Indonesia','Iran','Iraq','Israel','Japan',\n",
    " 'Kazakhstan','Kuwait','Malaysia','Oman',\n",
    " 'Pakistan','Philippines','Qatar','Saudi Arabia',\n",
    " 'Singapore','South Korea',\"Sri Lanka\", \"Thailand\", \"Vietnam\",\n",
    " 'Turkmenistan',\"Uzbekistan\",'United Arab Emirates',\"Tunisia\",\n",
    " \"Tajikistan\",\"North Korea\",\"Nepal\",\"Myanmar\",\"Brunei\", \"Cambodia\", \"Jordan\",\n",
    " \"Mongolia\",\"Kyrgyz Republic\",\"Bahrain\"]\n",
    "Africa = [\"Algeria\",\"Angola\",\"Egypt\",\"Morocco\",'South Africa',\n",
    "\"Zimbabwe\", \"Yemen\", \"Zambia\", \"Togo\", \"Tanzania\", \"Syria\",\n",
    "\"Sudan\",\"Senegal\",\"Nigeria\",\"Namibia\",'Mozambique',\n",
    "'Lebanon',\"Libya\",\"Kenya\",\"Ghana\",'Eritrea','Congo, Dem. Rep.',\n",
    " 'Congo, Rep.',\"Cote d'Ivoire\",\"Cameroon\",\"Benin\", \"Botswana\",\"Ethiopia\",\n",
    " \"Gabon\"]\n",
    "Europe = [\"Austria\",'Belarus','Belgium', \"Bulgaria\", 'Croatia',\n",
    " 'Cyprus','Czech Republic','Denmark','Estonia','Finland',\n",
    " 'France','Germany','Greece','Hungary','Iceland',\"Ireland\",\n",
    " 'Italy','Latvia','Lithuania','Luxembourg',\"Netherlands\",\n",
    " 'North Macedonia','Norway', 'Poland',\"Georgia\",\n",
    " 'Portugal','Romania','Russia','Slovak Republic',\n",
    " 'Slovenia',\"Sweden\", \"Spain\", \"Switzerland\", \"Ukraine\",\n",
    " \"United Kingdom\", \"Turkey\",'Moldova',\"Armenia\",\"Malta\",\n",
    " \"Serbia\", \"Albania\",\"Bosnia and Herzegovina\"]\n",
    "North_America = [\"Canada\", \"Mexico\",\"United States\"]\n",
    "South_America = [\"Argentina\", \"Brazil\", \"Chile\", \"Colombia\", \"Ecuador\",\n",
    "\"Peru\",'Trinidad and Tobago',\"Venezuela\",\"Uruguay\",'Panama',\n",
    " 'Paraguay','Nicaragua','Guatemala','Haiti','Honduras','Costa Rica',\n",
    " \"Jamaica\", \"Bolivia\", \"Cuba\", \"El Salvador\",\"Dominican Republic\"]\n",
    "Oceania = [\"Australia\", \"New Zealand\"]"
   ]
  },
  {
   "cell_type": "code",
   "execution_count": 81,
   "metadata": {},
   "outputs": [],
   "source": [
    "oil_consumption_asia = []\n",
    "oil_consumption_africa = []\n",
    "oil_consumption_europe = []\n",
    "oil_consumption_north_america = []\n",
    "oil_consumption_south_america =[]\n",
    "oil_consumption_oceania = []\n",
    "oil_consumption_years = []\n",
    "for i in range(len(oil_data)):\n",
    "    oil_consumption_ASIA = 0\n",
    "    oil_consumption_AFRICA = 0\n",
    "    oil_consumption_EUROPE = 0\n",
    "    oil_consumption_NA = 0\n",
    "    oil_consumption_SA = 0\n",
    "    oil_consumption_OCEANIA = 0\n",
    "    for country in countries:\n",
    "        if country in Asia:\n",
    "            oil_consumption_ASIA += oil_data[str(country)][i]\n",
    "        elif country in Africa:\n",
    "            oil_consumption_AFRICA += oil_data[str(country)][i]\n",
    "        elif country in Europe:\n",
    "            oil_consumption_EUROPE += oil_data[str(country)][i]\n",
    "        elif country in North_America:\n",
    "            oil_consumption_NA += oil_data[str(country)][i]\n",
    "        elif country in South_America:\n",
    "            oil_consumption_SA += oil_data[str(country)][i]\n",
    "        elif country in Oceania:\n",
    "            oil_consumption_OCEANIA += oil_data[str(country)][i]\n",
    "        else:\n",
    "            print(\"F*** country is missing!!!\")\n",
    "            print(country)\n",
    "    oil_consumption_asia.append(oil_consumption_ASIA)\n",
    "    oil_consumption_africa.append(oil_consumption_AFRICA)\n",
    "    oil_consumption_europe.append(oil_consumption_EUROPE)\n",
    "    oil_consumption_north_america.append(oil_consumption_NA)\n",
    "    oil_consumption_south_america.append(oil_consumption_SA)\n",
    "    oil_consumption_oceania.append(oil_consumption_OCEANIA)\n",
    "    oil_consumption_years.append(oil_data.index[i])\n"
   ]
  },
  {
   "cell_type": "code",
   "execution_count": 93,
   "metadata": {},
   "outputs": [],
   "source": [
    "oil_cons_cleaned = oil_data\n",
    "oil_cons_cleaned[\"Oil_Cons_Asia\"] = oil_consumption_asia\n",
    "oil_cons_cleaned[\"Oil_Cons_Africa\"] = oil_consumption_africa\n",
    "oil_cons_cleaned[\"Oil_Cons_Europe\"] = oil_consumption_europe\n",
    "oil_cons_cleaned[\"Oil_Cons_NA\"] = oil_consumption_north_america\n",
    "oil_cons_cleaned[\"Oil_Cons_SA\"] = oil_consumption_south_america\n",
    "oil_cons_cleaned[\"Oil_Cons_Oceania\"] = oil_consumption_oceania"
   ]
  },
  {
   "cell_type": "code",
   "execution_count": 94,
   "metadata": {},
   "outputs": [],
   "source": [
    "oil_cons_cleaned.to_csv(\"../data/oil_cons.csv\")"
   ]
  },
  {
   "cell_type": "code",
   "execution_count": 91,
   "metadata": {},
   "outputs": [],
   "source": [
    "countries = []\n",
    "for col in electricity_generation_data.columns:\n",
    "    countries.append(col)"
   ]
  },
  {
   "cell_type": "code",
   "execution_count": 92,
   "metadata": {},
   "outputs": [],
   "source": [
    "el_generation_asia = []\n",
    "el_generation_africa = []\n",
    "el_generation_europe = []\n",
    "el_generation_north_america = []\n",
    "el_generation_south_america =[]\n",
    "el_generation_oceania = []\n",
    "el_generation_years = []\n",
    "for i in range(len(electricity_generation_data)):\n",
    "    el_generation_ASIA = 0\n",
    "    el_generation_AFRICA = 0\n",
    "    el_generation_EUROPE = 0\n",
    "    el_generation_NA = 0\n",
    "    el_generation_SA = 0\n",
    "    el_generation_OCEANIA = 0\n",
    "    for country in countries:\n",
    "        if country in Asia:\n",
    "            el_generation_ASIA += electricity_generation_data[str(country)][i]\n",
    "        elif country in Africa:\n",
    "            el_generation_AFRICA += electricity_generation_data[str(country)][i]\n",
    "        elif country in Europe:\n",
    "            el_generation_EUROPE += electricity_generation_data[str(country)][i]\n",
    "        elif country in North_America:\n",
    "            el_generation_NA += electricity_generation_data[str(country)][i]\n",
    "        elif country in South_America:\n",
    "            el_generation_SA += electricity_generation_data[str(country)][i]\n",
    "        elif country in Oceania:\n",
    "            el_generation_OCEANIA += electricity_generation_data[str(country)][i]\n",
    "        else:\n",
    "            print(\"F*** country is missing!!!\")\n",
    "            print(country)\n",
    "    el_generation_asia.append(el_generation_ASIA)\n",
    "    el_generation_africa.append(el_generation_AFRICA)\n",
    "    el_generation_europe.append(el_generation_EUROPE)\n",
    "    el_generation_north_america.append(el_generation_NA)\n",
    "    el_generation_south_america.append(el_generation_SA)\n",
    "    el_generation_oceania.append(el_generation_OCEANIA)\n",
    "    el_generation_years.append(electricity_generation_data.index[i])"
   ]
  },
  {
   "cell_type": "code",
   "execution_count": 95,
   "metadata": {},
   "outputs": [],
   "source": [
    "el_gen_cleaned = electricity_generation_data\n",
    "el_gen_cleaned[\"El_Generation_Asia\"] = el_generation_asia\n",
    "el_gen_cleaned[\"El_Generation_Africa\"] = el_generation_africa\n",
    "el_gen_cleaned[\"El_Generation_Europe\"] = el_generation_europe\n",
    "el_gen_cleaned[\"El_Generation_NA\"] = el_generation_north_america\n",
    "el_gen_cleaned[\"El_Generation_SA\"] = el_generation_south_america\n",
    "el_gen_cleaned[\"El_Generation_Oceania\"] = el_generation_oceania"
   ]
  },
  {
   "cell_type": "code",
   "execution_count": 96,
   "metadata": {},
   "outputs": [],
   "source": [
    "el_gen_cleaned.to_csv(\"../data/electricity_generation.csv\")"
   ]
  },
  {
   "cell_type": "code",
   "execution_count": 109,
   "metadata": {},
   "outputs": [],
   "source": [
    "countries = []\n",
    "for col in energy_prod_data.columns:\n",
    "    countries.append(col)"
   ]
  },
  {
   "cell_type": "code",
   "execution_count": 119,
   "metadata": {
    "tags": []
   },
   "outputs": [],
   "source": [
    "energy_prod_asia = []\n",
    "energy_prod_africa = []\n",
    "energy_prod_europe = []\n",
    "energy_prod_north_america = []\n",
    "energy_prod_south_america =[]\n",
    "energy_prod_oceania = []\n",
    "energy_prod_years = []\n",
    "for i in range(len(energy_prod_data)):\n",
    "    energy_prod_ASIA = 0\n",
    "    energy_prod_AFRICA = 0\n",
    "    energy_prod_EUROPE = 0\n",
    "    energy_prod_NA = 0\n",
    "    energy_prod_SA = 0\n",
    "    energy_prod_OCEANIA = 0\n",
    "    for country in countries:\n",
    "        if country in Asia:\n",
    "            energy_prod_ASIA += energy_prod_data[str(country)][i]\n",
    "        elif country in Africa:\n",
    "            energy_prod_AFRICA += energy_prod_data[str(country)][i]\n",
    "        elif country in Europe:\n",
    "            energy_prod_EUROPE += energy_prod_data[str(country)][i]\n",
    "        elif country in North_America:\n",
    "            energy_prod_NA += energy_prod_data[str(country)][i]\n",
    "        elif country in South_America:\n",
    "            energy_prod_SA += energy_prod_data[str(country)][i]\n",
    "        elif country in Oceania:\n",
    "            energy_prod_OCEANIA += energy_prod_data[str(country)][i]\n",
    "        else:\n",
    "            print(\"F*** country is missing!!!\")\n",
    "            print(country)\n",
    "    energy_prod_asia.append(energy_prod_ASIA)\n",
    "    energy_prod_africa.append(energy_prod_AFRICA)\n",
    "    energy_prod_europe.append(energy_prod_EUROPE)\n",
    "    energy_prod_north_america.append(energy_prod_NA)\n",
    "    energy_prod_south_america.append(energy_prod_SA)\n",
    "    energy_prod_oceania.append(energy_prod_OCEANIA)\n",
    "    energy_prod_years.append(energy_prod_data.index[i])"
   ]
  },
  {
   "cell_type": "code",
   "execution_count": 121,
   "metadata": {},
   "outputs": [],
   "source": [
    "energy_prod_cleaned = energy_prod_data\n",
    "energy_prod_cleaned[\"Energy_Production_Asia\"] = energy_prod_asia\n",
    "energy_prod_cleaned[\"Energy_Production_Africa\"] = energy_prod_africa\n",
    "energy_prod_cleaned[\"Energy_Production_Europe\"] = energy_prod_europe\n",
    "energy_prod_cleaned[\"Energy_Production_NA\"] = energy_prod_north_america\n",
    "energy_prod_cleaned[\"Energy_Production_SA\"] = energy_prod_south_america\n",
    "energy_prod_cleaned[\"Energy_Production_Oceania\"] = energy_prod_oceania"
   ]
  },
  {
   "cell_type": "code",
   "execution_count": 122,
   "metadata": {},
   "outputs": [],
   "source": [
    "energy_prod_cleaned.to_csv(\"../data/energy_production.csv\")"
   ]
  },
  {
   "cell_type": "code",
   "execution_count": null,
   "metadata": {},
   "outputs": [],
   "source": []
  }
 ]
}